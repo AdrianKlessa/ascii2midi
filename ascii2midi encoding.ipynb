{
 "cells": [
  {
   "cell_type": "markdown",
   "source": [
    "Useful resources:\n",
    "\n",
    "https://jazz-soft.net/demo/GeneralMidi.html\n",
    "https://midi.org/about-midi-part-3midi-messages\n",
    "\n",
    "\n",
    "https://audiodev.blog/midi-note-chart/midi-note-chart.jpg"
   ],
   "metadata": {
    "collapsed": false
   }
  },
  {
   "cell_type": "code",
   "execution_count": 1,
   "outputs": [],
   "source": [
    "from mido import Message, MidiFile, MidiTrack\n",
    "import random\n",
    "mid = MidiFile()\n",
    "track = MidiTrack()\n",
    "mid.tracks.append(track)\n",
    "\n",
    "track.append(Message('program_change', program=0, time=0))\n",
    "\n",
    "# \"W, W, H, W, W, W, H\" for major scales\n",
    "# \"W, H, W, W, H, W, W\" for minor scales\n",
    "\n",
    "\n",
    "allowed_notes = [60,62,64,65,67,69,71, 72] # C Major\n",
    "\n",
    "allowed_notes_f_minor = [65, 67, 68, 70, 72, 73, 75, 77]\n",
    "\n",
    "# 50 is fast but still somewhat recognizable as music\n",
    "\n",
    "# 10 seems bugged when playing in VLC with Arachno soundfont\n",
    "time_distance = 50\n",
    "\n",
    "\n",
    "for i in range(500):\n",
    "    random_note = random.choice(allowed_notes_f_minor)\n",
    "    track.append(Message('note_on', note=random_note, velocity=64, time=0))\n",
    "    track.append(Message('note_off', note=random_note, velocity=127, time=time_distance))\n",
    "\n",
    "    #Random instrument change\n",
    "    #track.append(Message('program_change', program=random.randint(0,128), time=0))\n",
    "\n",
    "\n",
    "mid.save('new_song.mid')"
   ],
   "metadata": {
    "collapsed": false
   }
  },
  {
   "cell_type": "code",
   "execution_count": 2,
   "outputs": [
    {
     "name": "stdout",
     "output_type": "stream",
     "text": [
      "[60, 62, 64, 65, 67, 69, 71, 72]\n",
      "[65, 67, 68, 70, 72, 73, 75, 77]\n"
     ]
    }
   ],
   "source": [
    "# Get the MIDI notes (piano keys) corresponding to the major / minor scale based on the key (provided as an int as in https://audiodev.blog/midi-note-chart/midi-note-chart.jpg)\n",
    "\n",
    "\n",
    "def get_major_scale_from_note(key : int, octaves : int) -> list[int]:\n",
    "    notes = [key]\n",
    "    current_base = key\n",
    "    for _ in range(octaves):\n",
    "        notes.extend([current_base+2,current_base+4,current_base+5,current_base+7,current_base+9,current_base+11, current_base+12])\n",
    "        current_base+=12\n",
    "    return notes\n",
    "\n",
    "print(get_major_scale_from_note(60,1))\n",
    "\n",
    "def get_minor_scale_from_note(key : int, octaves : int) -> list[int]:\n",
    "    notes = [key]\n",
    "    current_base = key\n",
    "    for _ in range(octaves):\n",
    "        notes.extend([current_base+2,current_base+3,current_base+5,current_base+7,current_base+8,current_base+10,current_base+12])\n",
    "        current_base+=12\n",
    "    return notes\n",
    "\n",
    "print(get_minor_scale_from_note(65,1))"
   ],
   "metadata": {
    "collapsed": false
   }
  },
  {
   "cell_type": "code",
   "execution_count": 10,
   "outputs": [],
   "source": [
    "mid = MidiFile()\n",
    "track = MidiTrack()\n",
    "mid.tracks.append(track)\n",
    "track.append(Message('program_change', program=0, time=0))\n",
    "extended_scale = get_minor_scale_from_note(65,3)\n",
    "for i in range(500):\n",
    "    random_note = random.choice(extended_scale)\n",
    "    track.append(Message('note_on', note=random_note, velocity=64, time=0))\n",
    "    track.append(Message('note_off', note=random_note, velocity=127, time=time_distance))\n",
    "\n",
    "    #Random instrument change\n",
    "    #track.append(Message('program_change', program=random.randint(0,128), time=0))\n",
    "\n",
    "\n",
    "mid.save('new_song_extended_range.mid')"
   ],
   "metadata": {
    "collapsed": false
   }
  },
  {
   "cell_type": "markdown",
   "source": [
    "### The above functions gets 8 notes when asked for 1 octave, for more you get 15 etc (not even numbers)"
   ],
   "metadata": {
    "collapsed": false
   }
  },
  {
   "cell_type": "markdown",
   "source": [
    "8 notes - 3 bits\n",
    "16 notes - 4 bits\n",
    "\n",
    "\n",
    "\n"
   ],
   "metadata": {
    "collapsed": false
   }
  },
  {
   "cell_type": "code",
   "execution_count": 11,
   "outputs": [
    {
     "name": "stdout",
     "output_type": "stream",
     "text": [
      "[60, 62, 64, 65, 67, 69, 71, 72, 74, 76, 77, 79, 81, 83, 84, 86]\n",
      "[65, 67, 68, 70, 72, 73, 75, 77, 79, 80, 82, 84, 85, 87, 89, 91]\n"
     ]
    }
   ],
   "source": [
    "def get_major_scale_16_notes(base_key : int) -> list[int]:\n",
    "    notes = [base_key]\n",
    "    current_base = base_key\n",
    "    for _ in range(2):\n",
    "        notes.extend([current_base+2,current_base+4,current_base+5,current_base+7,current_base+9,current_base+11, current_base+12])\n",
    "        current_base+=12\n",
    "    notes.append(current_base+2)\n",
    "    return notes\n",
    "\n",
    "print(get_major_scale_16_notes(60))\n",
    "\n",
    "# \"W, W, H, W, W, W, H\" for major scales\n",
    "# \"W, H, W, W, H, W, W\" for minor scales\n",
    "\n",
    "def get_minor_scale_16_notes(base_key : int) -> list[int]:\n",
    "    notes = [base_key]\n",
    "    current_base = base_key\n",
    "    for _ in range(2):\n",
    "        notes.extend([current_base+2,current_base+3,current_base+5,current_base+7,current_base+8,current_base+10,current_base+12])\n",
    "        current_base+=12\n",
    "    notes.append(current_base+2)\n",
    "    return notes\n",
    "\n",
    "print(get_minor_scale_16_notes(65))"
   ],
   "metadata": {
    "collapsed": false
   }
  },
  {
   "cell_type": "markdown",
   "source": [
    "# 16 notes - 4 bits of data\n",
    "2 notes is 8 bits, so 1 ASCII character"
   ],
   "metadata": {
    "collapsed": false
   }
  },
  {
   "cell_type": "code",
   "execution_count": 12,
   "outputs": [
    {
     "data": {
      "text/plain": "97"
     },
     "execution_count": 12,
     "metadata": {},
     "output_type": "execute_result"
    }
   ],
   "source": [
    "ord(\"a\")"
   ],
   "metadata": {
    "collapsed": false
   }
  },
  {
   "cell_type": "code",
   "execution_count": 13,
   "outputs": [
    {
     "data": {
      "text/plain": "'a'"
     },
     "execution_count": 13,
     "metadata": {},
     "output_type": "execute_result"
    }
   ],
   "source": [
    "chr(97)"
   ],
   "metadata": {
    "collapsed": false
   }
  },
  {
   "cell_type": "code",
   "execution_count": 73,
   "outputs": [
    {
     "data": {
      "text/plain": "True"
     },
     "execution_count": 73,
     "metadata": {},
     "output_type": "execute_result"
    }
   ],
   "source": [
    "\"Is this ascii?\".isascii()"
   ],
   "metadata": {
    "collapsed": false
   }
  },
  {
   "cell_type": "code",
   "execution_count": 74,
   "outputs": [
    {
     "data": {
      "text/plain": "False"
     },
     "execution_count": 74,
     "metadata": {},
     "output_type": "execute_result"
    }
   ],
   "source": [
    "\"is Źdźbło ascii?\".isascii()"
   ],
   "metadata": {
    "collapsed": false
   }
  },
  {
   "cell_type": "markdown",
   "source": [
    "### Velocity can be used to add more bits of info\n",
    "\n",
    "Identical timings (time between note on / off)\n",
    "Note - 4 bits\n",
    "\n",
    "16 velocities to choose from - 4 bits\n",
    "(or 4 *note on* velocities and 4 *note off* velocities?)"
   ],
   "metadata": {
    "collapsed": false
   }
  },
  {
   "cell_type": "code",
   "execution_count": 17,
   "outputs": [],
   "source": [
    "#velocities = [64,80,96,112] # this didn't sound good\n",
    "velocities = [64,65,66,67]\n",
    "\n",
    "def get_random_midi_song(scale : list[int], number_of_notes : int):\n",
    "    mid = MidiFile()\n",
    "    track = MidiTrack()\n",
    "    mid.tracks.append(track)\n",
    "    track.append(Message('program_change', program=0, time=0))\n",
    "    for i in range(number_of_notes):\n",
    "        random_note = random.choice(scale)\n",
    "        track.append(Message('note_on', note=random_note, velocity=random.choice(velocities), time=0))\n",
    "        track.append(Message('note_off', note=random_note, velocity=random.choice(velocities), time=time_distance))\n",
    "        #Random instrument change\n",
    "        #track.append(Message('program_change', program=random.randint(0,128), time=0))\n",
    "    return mid\n",
    "\n",
    "\n",
    "\n",
    "get_random_midi_song(get_minor_scale_from_note(65,1), 200).save('song_with_velocity_changes.mid')"
   ],
   "metadata": {
    "collapsed": false
   }
  },
  {
   "cell_type": "code",
   "execution_count": 62,
   "outputs": [
    {
     "name": "stdout",
     "output_type": "stream",
     "text": [
      "[8, 0, 0]\n",
      "8\n"
     ]
    }
   ],
   "source": [
    "def int_to_note_info(data : int) -> list[int]:\n",
    "    \"\"\"\n",
    "    Converts number in the range 0-255 into three numbers : note value (4 bits), note_on_velocity (2 bits), note_off_velocity (2 bits)\n",
    "    \"\"\"\n",
    "    if data>255:\n",
    "        raise ValueError(\"The provided int data is higher than 255\")\n",
    "    bits = f'{data:08b}'\n",
    "    note_on_velocity = int(bits[:2], 2)\n",
    "    note_off_velocity = int(bits[2:4], 2)\n",
    "    note_value = int(bits[4:], 2)\n",
    "    return [note_value, note_on_velocity, note_off_velocity]\n",
    "\n",
    "\n",
    "def note_info_to_int(note : int, note_on_velocity : int, note_off_velocity : int) -> int:\n",
    "    \"\"\"\n",
    "    Converts data from int_to_note_info back to a single number in the range 0-255\n",
    "    \"\"\"\n",
    "    data = f'{note_on_velocity:02b}{note_off_velocity:02b}{note:04b}'\n",
    "    data = int(data, 2)\n",
    "    return data\n",
    "\n",
    "\n",
    "\n",
    "\n",
    "print(int_to_note_info(8))\n",
    "print(note_info_to_int(8,0,0))"
   ],
   "metadata": {
    "collapsed": false
   }
  },
  {
   "cell_type": "code",
   "execution_count": 75,
   "outputs": [],
   "source": [
    "for x in range(256):\n",
    "    note_info = int_to_note_info(x)\n",
    "    original_number = note_info_to_int(*note_info)\n",
    "    #print(f\"{x} || {original_number}\")\n",
    "    assert x==original_number"
   ],
   "metadata": {
    "collapsed": false
   }
  },
  {
   "cell_type": "code",
   "execution_count": 67,
   "outputs": [],
   "source": [
    "def ascii_numbers_from_string(input_string : str) -> list[int]:\n",
    "    if not input_string.isascii():\n",
    "        raise ValueError(\"The provided string is not ASCII\")\n",
    "    return [ord(x) for x in input_string]\n",
    "\n",
    "def encode_string_to_midi(data : str, musical_key: list[int], filename : str =\"encoded.mid\"):\n",
    "    time_distance = 50\n",
    "    data_numerical = ascii_numbers_from_string(data)\n",
    "    mid = MidiFile()\n",
    "    track = MidiTrack()\n",
    "    mid.tracks.append(track)\n",
    "    track.append(Message('program_change', program=0, time=0))\n",
    "    velocities = [64,65,66,67]\n",
    "    for data_point in data_numerical:\n",
    "        note_index, note_on_velocity_index, note_off_velocity_index = int_to_note_info(data_point)\n",
    "        note_value = musical_key[note_index]\n",
    "        track.append(Message('note_on', note=note_value, velocity=velocities[note_on_velocity_index], time=0))\n",
    "        track.append(Message('note_off', note=note_value, velocity=velocities[note_off_velocity_index], time=time_distance))\n",
    "    mid.save(filename)"
   ],
   "metadata": {
    "collapsed": false
   }
  },
  {
   "cell_type": "code",
   "execution_count": 68,
   "outputs": [],
   "source": [
    "def decode_string_from_midi(file_path : str, musical_key: list[int])-> str:\n",
    "    velocities = [64,65,66,67]\n",
    "    mid = MidiFile(file_path)\n",
    "    data_numeric = []\n",
    "    for msg in mid:\n",
    "        if msg.type == 'note_on':\n",
    "            note_value = msg.note\n",
    "            note_on_velocity = msg.velocity\n",
    "        if msg.type == 'note_off':\n",
    "            note_off_velocity = msg.velocity\n",
    "            data_numeric.append(note_info_to_int(musical_key.index(note_value), velocities.index(note_on_velocity), velocities.index(note_off_velocity)))\n",
    "            note_value = None\n",
    "            note_on_velocity = None\n",
    "            note_off_velocity = None\n",
    "    data_string = ''.join([chr(x) for x in data_numeric])\n",
    "    return data_string"
   ],
   "metadata": {
    "collapsed": false
   }
  },
  {
   "cell_type": "code",
   "execution_count": 69,
   "outputs": [
    {
     "data": {
      "text/plain": "'Test data after encoding'"
     },
     "execution_count": 69,
     "metadata": {},
     "output_type": "execute_result"
    }
   ],
   "source": [
    "encode_string_to_midi(\"Test data after encoding\", get_minor_scale_16_notes(65))\n",
    "decode_string_from_midi('encoded.mid', get_minor_scale_16_notes(65))"
   ],
   "metadata": {
    "collapsed": false
   }
  },
  {
   "cell_type": "code",
   "execution_count": 72,
   "outputs": [
    {
     "name": "stdout",
     "output_type": "stream",
     "text": [
      "According to all known laws of aviation, there is no way a bee should be able to fly.\n",
      "Its wings are too small to get its fat little body off the ground.\n",
      "The bee, of course, flies anyway because bees don't care what humans think is impossible.\n",
      "Yellow, black. Yellow, black. Yellow, black. Yellow, black.\n",
      "Ooh, black and yellow!\n",
      "Let's shake it up a little.\n",
      "Barry! Breakfast is ready!\n",
      "Coming!\n",
      "Hang on a second.\n",
      "Hello?\n",
      "Barry?\n",
      "Adam?\n",
      "Can you believe this is happening?\n",
      "I can't.\n",
      "I'll pick you up.\n",
      "Looking sharp.\n",
      "Use the stairs, Your father paid good money for those.\n",
      "Sorry. I'm excited.\n",
      "Here's the graduate.\n",
      "We're very proud of you, son.\n",
      "A perfect report card, all B's.\n",
      "Very proud.\n",
      "Ma! I got a thing going here.\n",
      "You got lint on your fuzz.\n",
      "Ow! That's me!\n",
      "Wave to us! We'll be in row 118,000.\n",
      "Bye!\n",
      "Barry, I told you, stop flying in the house!\n",
      "Hey, Adam.\n",
      "Hey, Barry.\n",
      "Is that fuzz gel?\n",
      "A little. Special day, graduation.\n",
      "Never thought I'd make it.\n",
      "Three days grade school, three days high school.\n",
      "Those were awkward.\n",
      "Three days college. I'm glad I took a day and hitchhiked around The Hive.\n",
      "You did come back different.\n",
      "Hi, Barry. Artie, growing a mustache? Looks good.\n",
      "Hear about Frankie?\n",
      "Yeah.\n"
     ]
    }
   ],
   "source": [
    "bee_movie = \"\"\"According to all known laws of aviation, there is no way a bee should be able to fly.\n",
    "Its wings are too small to get its fat little body off the ground.\n",
    "The bee, of course, flies anyway because bees don't care what humans think is impossible.\n",
    "Yellow, black. Yellow, black. Yellow, black. Yellow, black.\n",
    "Ooh, black and yellow!\n",
    "Let's shake it up a little.\n",
    "Barry! Breakfast is ready!\n",
    "Coming!\n",
    "Hang on a second.\n",
    "Hello?\n",
    "Barry?\n",
    "Adam?\n",
    "Can you believe this is happening?\n",
    "I can't.\n",
    "I'll pick you up.\n",
    "Looking sharp.\n",
    "Use the stairs, Your father paid good money for those.\n",
    "Sorry. I'm excited.\n",
    "Here's the graduate.\n",
    "We're very proud of you, son.\n",
    "A perfect report card, all B's.\n",
    "Very proud.\n",
    "Ma! I got a thing going here.\n",
    "You got lint on your fuzz.\n",
    "Ow! That's me!\n",
    "Wave to us! We'll be in row 118,000.\n",
    "Bye!\n",
    "Barry, I told you, stop flying in the house!\n",
    "Hey, Adam.\n",
    "Hey, Barry.\n",
    "Is that fuzz gel?\n",
    "A little. Special day, graduation.\n",
    "Never thought I'd make it.\n",
    "Three days grade school, three days high school.\n",
    "Those were awkward.\n",
    "Three days college. I'm glad I took a day and hitchhiked around The Hive.\n",
    "You did come back different.\n",
    "Hi, Barry. Artie, growing a mustache? Looks good.\n",
    "Hear about Frankie?\n",
    "Yeah.\"\"\"\n",
    "\n",
    "encode_string_to_midi(bee_movie, get_minor_scale_16_notes(65), \"bee movie.mid\")\n",
    "print(decode_string_from_midi('bee movie.mid', get_minor_scale_16_notes(65)))"
   ],
   "metadata": {
    "collapsed": false
   }
  },
  {
   "cell_type": "code",
   "execution_count": null,
   "outputs": [],
   "source": [],
   "metadata": {
    "collapsed": false
   }
  }
 ],
 "metadata": {
  "kernelspec": {
   "display_name": "Python 3",
   "language": "python",
   "name": "python3"
  },
  "language_info": {
   "codemirror_mode": {
    "name": "ipython",
    "version": 2
   },
   "file_extension": ".py",
   "mimetype": "text/x-python",
   "name": "python",
   "nbconvert_exporter": "python",
   "pygments_lexer": "ipython2",
   "version": "2.7.6"
  }
 },
 "nbformat": 4,
 "nbformat_minor": 0
}
